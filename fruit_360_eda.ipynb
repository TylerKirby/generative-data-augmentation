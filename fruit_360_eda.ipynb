{
 "cells": [
  {
   "cell_type": "markdown",
   "metadata": {},
   "source": [
    "Import modules"
   ]
  },
  {
   "cell_type": "code",
   "execution_count": 1,
   "metadata": {},
   "outputs": [],
   "source": [
    "import os\n",
    "import matplotlib.pyplot as plt\n",
    "import cv2"
   ]
  },
  {
   "cell_type": "markdown",
   "metadata": {},
   "source": [
    "Set paths"
   ]
  },
  {
   "cell_type": "code",
   "execution_count": 2,
   "metadata": {},
   "outputs": [],
   "source": [
    "DATA_PATH = os.getcwd()+'/data/fruits-360/'\n",
    "TRAINING_PATH = DATA_PATH+'Training/'\n",
    "TEST_PATH = DATA_PATH+'Testing/'"
   ]
  },
  {
   "cell_type": "markdown",
   "metadata": {},
   "source": [
    "Find classes and list the number of examples per class."
   ]
  },
  {
   "cell_type": "code",
   "execution_count": 3,
   "metadata": {},
   "outputs": [],
   "source": [
    "classes = sorted(os.listdir(TRAINING_PATH))\n",
    "class_dirs = [TRAINING_PATH+c for c in classes]"
   ]
  },
  {
   "cell_type": "code",
   "execution_count": 4,
   "metadata": {},
   "outputs": [
    {
     "name": "stdout",
     "output_type": "stream",
     "text": [
      "Class: Apple Braeburn\n",
      "Number of Examples: 492\n",
      "\n",
      "Class: Apple Golden 1\n",
      "Number of Examples: 493\n",
      "\n",
      "Class: Apple Golden 2\n",
      "Number of Examples: 492\n",
      "\n",
      "Class: Apple Golden 3\n",
      "Number of Examples: 481\n",
      "\n",
      "Class: Apple Granny Smith\n",
      "Number of Examples: 492\n",
      "\n",
      "Class: Apple Red 1\n",
      "Number of Examples: 492\n",
      "\n",
      "Class: Apple Red 2\n",
      "Number of Examples: 492\n",
      "\n",
      "Class: Apple Red 3\n",
      "Number of Examples: 429\n",
      "\n",
      "Class: Apple Red Delicious\n",
      "Number of Examples: 490\n",
      "\n",
      "Class: Apple Red Yellow 1\n",
      "Number of Examples: 492\n",
      "\n",
      "Class: Apple Red Yellow 2\n",
      "Number of Examples: 672\n",
      "\n",
      "Class: Apricot\n",
      "Number of Examples: 492\n",
      "\n",
      "Class: Avocado\n",
      "Number of Examples: 427\n",
      "\n",
      "Class: Avocado ripe\n",
      "Number of Examples: 491\n",
      "\n",
      "Class: Banana\n",
      "Number of Examples: 490\n",
      "\n",
      "Class: Banana Lady Finger\n",
      "Number of Examples: 450\n",
      "\n",
      "Class: Banana Red\n",
      "Number of Examples: 490\n",
      "\n",
      "Class: Cactus fruit\n",
      "Number of Examples: 490\n",
      "\n",
      "Class: Cantaloupe 1\n",
      "Number of Examples: 492\n",
      "\n",
      "Class: Cantaloupe 2\n",
      "Number of Examples: 492\n",
      "\n",
      "Class: Carambula\n",
      "Number of Examples: 490\n",
      "\n",
      "Class: Cherry 1\n",
      "Number of Examples: 492\n",
      "\n",
      "Class: Cherry 2\n",
      "Number of Examples: 738\n",
      "\n",
      "Class: Cherry Rainier\n",
      "Number of Examples: 738\n",
      "\n",
      "Class: Cherry Wax Black\n",
      "Number of Examples: 492\n",
      "\n",
      "Class: Cherry Wax Red\n",
      "Number of Examples: 492\n",
      "\n",
      "Class: Cherry Wax Yellow\n",
      "Number of Examples: 492\n",
      "\n",
      "Class: Chestnut\n",
      "Number of Examples: 450\n",
      "\n",
      "Class: Clementine\n",
      "Number of Examples: 490\n",
      "\n",
      "Class: Cocos\n",
      "Number of Examples: 490\n",
      "\n",
      "Class: Dates\n",
      "Number of Examples: 490\n",
      "\n",
      "Class: Granadilla\n",
      "Number of Examples: 490\n",
      "\n",
      "Class: Grape Blue\n",
      "Number of Examples: 984\n",
      "\n",
      "Class: Grape Pink\n",
      "Number of Examples: 492\n",
      "\n",
      "Class: Grape White\n",
      "Number of Examples: 490\n",
      "\n",
      "Class: Grape White 2\n",
      "Number of Examples: 490\n",
      "\n",
      "Class: Grape White 3\n",
      "Number of Examples: 492\n",
      "\n",
      "Class: Grape White 4\n",
      "Number of Examples: 471\n",
      "\n",
      "Class: Grapefruit Pink\n",
      "Number of Examples: 490\n",
      "\n",
      "Class: Grapefruit White\n",
      "Number of Examples: 492\n",
      "\n",
      "Class: Guava\n",
      "Number of Examples: 490\n",
      "\n",
      "Class: Hazelnut\n",
      "Number of Examples: 464\n",
      "\n",
      "Class: Huckleberry\n",
      "Number of Examples: 490\n",
      "\n",
      "Class: Kaki\n",
      "Number of Examples: 490\n",
      "\n",
      "Class: Kiwi\n",
      "Number of Examples: 466\n",
      "\n",
      "Class: Kumquats\n",
      "Number of Examples: 490\n",
      "\n",
      "Class: Lemon\n",
      "Number of Examples: 492\n",
      "\n",
      "Class: Lemon Meyer\n",
      "Number of Examples: 490\n",
      "\n",
      "Class: Limes\n",
      "Number of Examples: 490\n",
      "\n",
      "Class: Lychee\n",
      "Number of Examples: 490\n",
      "\n",
      "Class: Mandarine\n",
      "Number of Examples: 490\n",
      "\n",
      "Class: Mango\n",
      "Number of Examples: 490\n",
      "\n",
      "Class: Mangostan\n",
      "Number of Examples: 300\n",
      "\n",
      "Class: Maracuja\n",
      "Number of Examples: 490\n",
      "\n",
      "Class: Melon Piel de Sapo\n",
      "Number of Examples: 738\n",
      "\n",
      "Class: Mulberry\n",
      "Number of Examples: 492\n",
      "\n",
      "Class: Nectarine\n",
      "Number of Examples: 492\n",
      "\n",
      "Class: Orange\n",
      "Number of Examples: 479\n",
      "\n",
      "Class: Papaya\n",
      "Number of Examples: 492\n",
      "\n",
      "Class: Passion Fruit\n",
      "Number of Examples: 490\n",
      "\n",
      "Class: Peach\n",
      "Number of Examples: 492\n",
      "\n",
      "Class: Peach 2\n",
      "Number of Examples: 738\n",
      "\n",
      "Class: Peach Flat\n",
      "Number of Examples: 492\n",
      "\n",
      "Class: Pear\n",
      "Number of Examples: 492\n",
      "\n",
      "Class: Pear Abate\n",
      "Number of Examples: 490\n",
      "\n",
      "Class: Pear Kaiser\n",
      "Number of Examples: 300\n",
      "\n",
      "Class: Pear Monster\n",
      "Number of Examples: 490\n",
      "\n",
      "Class: Pear Williams\n",
      "Number of Examples: 490\n",
      "\n",
      "Class: Pepino\n",
      "Number of Examples: 490\n",
      "\n",
      "Class: Physalis\n",
      "Number of Examples: 492\n",
      "\n",
      "Class: Physalis with Husk\n",
      "Number of Examples: 492\n",
      "\n",
      "Class: Pineapple\n",
      "Number of Examples: 490\n",
      "\n",
      "Class: Pineapple Mini\n",
      "Number of Examples: 493\n",
      "\n",
      "Class: Pitahaya Red\n",
      "Number of Examples: 490\n",
      "\n",
      "Class: Plum\n",
      "Number of Examples: 447\n",
      "\n",
      "Class: Plum 2\n",
      "Number of Examples: 420\n",
      "\n",
      "Class: Plum 3\n",
      "Number of Examples: 900\n",
      "\n",
      "Class: Pomegranate\n",
      "Number of Examples: 492\n",
      "\n",
      "Class: Pomelo Sweetie\n",
      "Number of Examples: 450\n",
      "\n",
      "Class: Quince\n",
      "Number of Examples: 490\n",
      "\n",
      "Class: Rambutan\n",
      "Number of Examples: 492\n",
      "\n",
      "Class: Raspberry\n",
      "Number of Examples: 490\n",
      "\n",
      "Class: Redcurrant\n",
      "Number of Examples: 492\n",
      "\n",
      "Class: Salak\n",
      "Number of Examples: 490\n",
      "\n",
      "Class: Strawberry\n",
      "Number of Examples: 492\n",
      "\n",
      "Class: Strawberry Wedge\n",
      "Number of Examples: 738\n",
      "\n",
      "Class: Tamarillo\n",
      "Number of Examples: 490\n",
      "\n",
      "Class: Tangelo\n",
      "Number of Examples: 490\n",
      "\n",
      "Class: Tomato 1\n",
      "Number of Examples: 738\n",
      "\n",
      "Class: Tomato 2\n",
      "Number of Examples: 672\n",
      "\n",
      "Class: Tomato 3\n",
      "Number of Examples: 738\n",
      "\n",
      "Class: Tomato 4\n",
      "Number of Examples: 479\n",
      "\n",
      "Class: Tomato Cherry Red\n",
      "Number of Examples: 492\n",
      "\n",
      "Class: Tomato Maroon\n",
      "Number of Examples: 367\n",
      "\n",
      "Class: Walnut\n",
      "Number of Examples: 735\n",
      "\n"
     ]
    }
   ],
   "source": [
    "for d in class_dirs:\n",
    "    class_name = d.split('/')[-1]\n",
    "    num_of_examples = len([f for f in os.listdir(d)])\n",
    "    print(f'Class: {class_name}\\nNumber of Examples: {num_of_examples}\\n')"
   ]
  },
  {
   "cell_type": "markdown",
   "metadata": {},
   "source": [
    "Create sets of classes and count the number of examples per set"
   ]
  },
  {
   "cell_type": "code",
   "execution_count": 5,
   "metadata": {},
   "outputs": [],
   "source": [
    "apples = [\n",
    "    'Apple Braeburn',\n",
    "    'Apple Golden 1',\n",
    "    'Apple Golden 2',\n",
    "    'Apple Golden 3',\n",
    "    'Apple Granny Smith',\n",
    "    'Apple Red 1',\n",
    "    'Apple Red 2',\n",
    "    'Apple Red 3',\n",
    "    'Apple Red Delicious',\n",
    "    'Apple Red Yellow 1',\n",
    "    'Apple Red Yellow 2'\n",
    "]\n",
    "cherries = [\n",
    "    'Cherry 1',\n",
    "    'Cherry 2',\n",
    "    'Cherry Rainier',\n",
    "    'Cherry Wax Black',\n",
    "    'Cherry Wax Red',\n",
    "    'Cherry Wax Yellow'\n",
    "]\n",
    "grapes = [\n",
    "    'Grape Blue',\n",
    "    'Grape Pink',\n",
    "    'Grape White',\n",
    "    'Grape White 2',\n",
    "    'Grape White 3',\n",
    "    'Grape White 4'\n",
    "]\n",
    "pears = [\n",
    "    'Pear',\n",
    "    'Pear Abate',\n",
    "    'Pear Kaiser',\n",
    "    'Pear Monster',\n",
    "    'Pear Williams'\n",
    "]\n",
    "tomatoes = [\n",
    "    'Tomato 1',\n",
    "    'Tomato 2',\n",
    "    'Tomato 3',\n",
    "    'Tomato 4'\n",
    "]\n",
    "peaches = [\n",
    "    'Peach',\n",
    "    'Peach 2',\n",
    "    'Peach Flat'\n",
    "]\n",
    "plums = [\n",
    "    'Plum',\n",
    "    'Plum 2',\n",
    "    'Plum 3'\n",
    "]"
   ]
  },
  {
   "cell_type": "code",
   "execution_count": 6,
   "metadata": {},
   "outputs": [],
   "source": [
    "base_classes = {\n",
    "    'apples': apples, \n",
    "    'cherries': cherries, \n",
    "    'grapes': grapes, \n",
    "    'pears': pears, \n",
    "    'tomatoes': tomatoes, \n",
    "    'peaches': peaches, \n",
    "    'plums': plums\n",
    "}"
   ]
  },
  {
   "cell_type": "code",
   "execution_count": 7,
   "metadata": {},
   "outputs": [
    {
     "name": "stdout",
     "output_type": "stream",
     "text": [
      "Class: apples\n",
      "Number of Examples: 5517\n",
      "\n",
      "Class: cherries\n",
      "Number of Examples: 3444\n",
      "\n",
      "Class: grapes\n",
      "Number of Examples: 3419\n",
      "\n",
      "Class: pears\n",
      "Number of Examples: 2262\n",
      "\n",
      "Class: tomatoes\n",
      "Number of Examples: 2627\n",
      "\n",
      "Class: peaches\n",
      "Number of Examples: 1722\n",
      "\n",
      "Class: plums\n",
      "Number of Examples: 1767\n",
      "\n"
     ]
    }
   ],
   "source": [
    "for k, v in base_classes.items():\n",
    "    class_total = 0\n",
    "    for d in v:\n",
    "        num_of_examples = len([f for f in os.listdir(TRAINING_PATH+d)])\n",
    "        class_total += num_of_examples\n",
    "    print(f'Class: {k}\\nNumber of Examples: {class_total}\\n')"
   ]
  },
  {
   "cell_type": "markdown",
   "metadata": {},
   "source": [
    "Load single image"
   ]
  },
  {
   "cell_type": "code",
   "execution_count": 11,
   "metadata": {},
   "outputs": [],
   "source": [
    "sample_image = cv2.imread(TRAINING_PATH+'/Apple Golden 1/0_100.jpg')\n",
    "# By default, cv2 reads in image as BGR\n",
    "sample_image = cv2.cvtColor(sample_image, cv2.COLOR_BGR2RGB)"
   ]
  },
  {
   "cell_type": "code",
   "execution_count": 12,
   "metadata": {},
   "outputs": [
    {
     "data": {
      "text/plain": [
       "<matplotlib.image.AxesImage at 0x11f42d9e8>"
      ]
     },
     "execution_count": 12,
     "metadata": {},
     "output_type": "execute_result"
    },
    {
     "data": {
      "image/png": "[encoded data removed]",
      "text/plain": [
       "<Figure size 432x288 with 1 Axes>"
      ]
     },
     "metadata": {
      "needs_background": "light"
     },
     "output_type": "display_data"
    }
   ],
   "source": [
    "plt.imshow(sample_image)"
   ]
  },
  {
   "cell_type": "code",
   "execution_count": 14,
   "metadata": {},
   "outputs": [
    {
     "data": {
      "text/plain": [
       "(100, 100, 3)"
      ]
     },
     "execution_count": 14,
     "metadata": {},
     "output_type": "execute_result"
    }
   ],
   "source": [
    "sample_image.shape"
   ]
  },
  {
   "cell_type": "markdown",
   "metadata": {},
   "source": [
    "Images are 100x100 pixels with 3 color channels"
   ]
  },
  {
   "cell_type": "code",
   "execution_count": 21,
   "metadata": {},
   "outputs": [],
   "source": [
    "resized_img = cv2.resize(sample_image, (32, 32))"
   ]
  },
  {
   "cell_type": "code",
   "execution_count": 22,
   "metadata": {},
   "outputs": [
    {
     "data": {
      "text/plain": [
       "<matplotlib.image.AxesImage at 0x11f5bd780>"
      ]
     },
     "execution_count": 22,
     "metadata": {},
     "output_type": "execute_result"
    },
    {
     "data": {
      "image/png": "[encoded data removed]",
      "text/plain": [
       "<Figure size 432x288 with 1 Axes>"
      ]
     },
     "metadata": {
      "needs_background": "light"
     },
     "output_type": "display_data"
    }
   ],
   "source": [
    "plt.imshow(resized_img)"
   ]
  },
  {
   "cell_type": "code",
   "execution_count": null,
   "metadata": {},
   "outputs": [],
   "source": []
  }
 ],
 "metadata": {
  "kernelspec": {
   "display_name": "Python 3",
   "language": "python",
   "name": "python3"
  },
  "language_info": {
   "codemirror_mode": {
    "name": "ipython",
    "version": 3
   },
   "file_extension": ".py",
   "mimetype": "text/x-python",
   "name": "python",
   "nbconvert_exporter": "python",
   "pygments_lexer": "ipython3",
   "version": "3.7.1"
  }
 },
 "nbformat": 4,
 "nbformat_minor": 2
}
